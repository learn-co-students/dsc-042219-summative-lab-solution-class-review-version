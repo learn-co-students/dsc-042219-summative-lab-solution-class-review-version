{
 "cells": [
  {
   "cell_type": "markdown",
   "metadata": {},
   "source": [
    "# Module 2 Summative Lab\n",
    "\n",
    "### About This Lab\n",
    "\n",
    "A quick note before getting started--this lab isn't like other labs you seen so far. This lab is meant to take ~8 hours to complete, so it's much longer and more challenging that the average labs you've seen so far. If you feel like this lab is challenging or that you might be struggling a bit, don't fret--that's by design! With everything we've learned about Web Scraping, APIs, and Databases, the best way to test our knowledge of it is to build something substantial! \n",
    "\n",
    "### The complete instructions are located in the README.md file, or on your original Learn.co page for this \"lab\"\n",
    "\n",
    "Good luck--we look forward to seeing your completed project!"
   ]
  },
  {
   "cell_type": "markdown",
   "metadata": {},
   "source": [
    "# FIRST OF ALL...\n",
    "\n",
    "## Import all your packages at the top and not throughout your notebook/file!!!!"
   ]
  },
  {
   "cell_type": "code",
   "execution_count": 1,
   "metadata": {},
   "outputs": [],
   "source": [
    "%%capture\n",
    "from tqdm import tqdm_notebook as tqdm\n",
    "tqdm().pandas()\n",
    "import sqlite3\n",
    "import pandas as pd\n",
    "import numpy as np\n",
    "import requests\n",
    "import json\n",
    "import pymongo\n",
    "import matplotlib.pyplot as plt\n",
    "%matplotlib inline"
   ]
  },
  {
   "cell_type": "code",
   "execution_count": 2,
   "metadata": {},
   "outputs": [],
   "source": [
    "class WeatherGetter(object):\n",
    "    \n",
    "    def __init__(self):\n",
    "        self.secret_key = \"d13ab59eaab2f300a54654adcc38d3b4\"\n",
    "        self.berlin_lat = \"52.5200\"\n",
    "        self.berlin_long = \"13.4050\"\n",
    "        self.url_base = \"https://api.darksky.net/forecast\"\n",
    "        self.exclude = 'currently,flags,minutely,hourly,alerts'\n",
    "        \n",
    "        \n",
    "    def get_weather_data_for_date(self, datetime_string, verbose=True):\n",
    "        \n",
    "#         year, month, day = self.format_datetime(datetime_string)\n",
    "        year, month, day = datetime_string[:4], datetime_string[5:7], datetime_string[8:]  \n",
    "        \n",
    "        datetime = \"{}-{}-{}T12:00:00\".format(year, month, day)\n",
    "        full_url = \"{}/{}/{},{},{}?exclude={}\".format(self.url_base, self.secret_key, \n",
    "                                                     self.berlin_lat, self.berlin_long, \n",
    "                                                     datetime, self.exclude)\n",
    "        response = requests.get(full_url)\n",
    "        if response.status_code == 200:\n",
    "            if verbose:\n",
    "                print(response.status_code)\n",
    "            return response\n",
    "        else: \n",
    "            raise ValueError(\"Error getting data from DarkSky API: Response Code {}\".format(response.status_code))\n",
    "            \n",
    "\n",
    "# This function could be better in my opinion            \n",
    "\n",
    "    def was_raining(self, response, verbose=True):\n",
    "        data = json.loads(response.text)\n",
    "        daily = data['daily']\n",
    "        data =  daily['data']\n",
    "        data = data[0]\n",
    "        if data['icon'] == 'rain':\n",
    "            if verbose:\n",
    "                print(data['icon'])\n",
    "            return True\n",
    "        else:\n",
    "            if verbose:\n",
    "                print(data['icon'])\n",
    "            return False\n",
    "        \n",
    "# I HATE THE FOLLOWING FUNCTION; TO ME, IT'S REDUNDANT/UNNECESSARY\n",
    "        \n",
    "    def format_datetime(self, datetime_string):\n",
    "        \n",
    "        year = datetime_string[:4]\n",
    "        month = datetime_string[5:7]\n",
    "        day = datetime_string[8:]\n",
    "        return year, month, day\n",
    "    \n",
    "    \n",
    "    def did_rain_on_date(self, datetime_string):\n",
    "        \n",
    "        response = self.get_weather_data_for_date(datetime_string, verbose=False)\n",
    "        did_rain = self.was_raining(response, verbose=False)\n",
    "        \n",
    "        return did_rain\n",
    "    \n",
    "    def get_weather_for_all_dates(self, dates_list):\n",
    "        \"\"\"Expects input of dates in yyyy-mm-dd format \n",
    "        Returns a dictionary where each date is the key. \n",
    "        Rain days have a value of True, all others are False\"\"\"\n",
    "        \n",
    "        # Here we will add in the tqdm() function, to display a progress bar\n",
    "        # in the cell where we will call this function\n",
    "        weather_dict = {}\n",
    "        for date in tqdm(dates_list):\n",
    "            weather_dict[date] = self.did_rain_on_date(date)\n",
    "        \n",
    "        return weather_dict "
   ]
  },
  {
   "cell_type": "code",
   "execution_count": 3,
   "metadata": {},
   "outputs": [
    {
     "data": {
      "text/plain": [
       "False"
      ]
     },
     "execution_count": 3,
     "metadata": {},
     "output_type": "execute_result"
    }
   ],
   "source": [
    "wg = WeatherGetter()\n",
    "wg.did_rain_on_date('2019-01-03')"
   ]
  },
  {
   "cell_type": "code",
   "execution_count": 4,
   "metadata": {},
   "outputs": [],
   "source": [
    "conn = sqlite3.connect('''database.sqlite''')\n",
    "cur = conn.cursor()"
   ]
  },
  {
   "cell_type": "code",
   "execution_count": 5,
   "metadata": {},
   "outputs": [
    {
     "data": {
      "text/html": [
       "<div>\n",
       "<style scoped>\n",
       "    .dataframe tbody tr th:only-of-type {\n",
       "        vertical-align: middle;\n",
       "    }\n",
       "\n",
       "    .dataframe tbody tr th {\n",
       "        vertical-align: top;\n",
       "    }\n",
       "\n",
       "    .dataframe thead th {\n",
       "        text-align: right;\n",
       "    }\n",
       "</style>\n",
       "<table border=\"1\" class=\"dataframe\">\n",
       "  <thead>\n",
       "    <tr style=\"text-align: right;\">\n",
       "      <th></th>\n",
       "      <th>Match_ID</th>\n",
       "      <th>Div</th>\n",
       "      <th>Season</th>\n",
       "      <th>Date</th>\n",
       "      <th>HomeTeam</th>\n",
       "      <th>AwayTeam</th>\n",
       "      <th>FTHG</th>\n",
       "      <th>FTAG</th>\n",
       "      <th>FTR</th>\n",
       "    </tr>\n",
       "  </thead>\n",
       "  <tbody>\n",
       "    <tr>\n",
       "      <th>0</th>\n",
       "      <td>1133</td>\n",
       "      <td>D2</td>\n",
       "      <td>2011</td>\n",
       "      <td>2011-07-15</td>\n",
       "      <td>Cottbus</td>\n",
       "      <td>Dresden</td>\n",
       "      <td>2</td>\n",
       "      <td>1</td>\n",
       "      <td>H</td>\n",
       "    </tr>\n",
       "    <tr>\n",
       "      <th>1</th>\n",
       "      <td>1167</td>\n",
       "      <td>D2</td>\n",
       "      <td>2011</td>\n",
       "      <td>2011-07-15</td>\n",
       "      <td>Greuther Furth</td>\n",
       "      <td>Ein Frankfurt</td>\n",
       "      <td>2</td>\n",
       "      <td>3</td>\n",
       "      <td>A</td>\n",
       "    </tr>\n",
       "    <tr>\n",
       "      <th>2</th>\n",
       "      <td>1551</td>\n",
       "      <td>D2</td>\n",
       "      <td>2011</td>\n",
       "      <td>2011-07-15</td>\n",
       "      <td>Frankfurt FSV</td>\n",
       "      <td>Union Berlin</td>\n",
       "      <td>1</td>\n",
       "      <td>1</td>\n",
       "      <td>D</td>\n",
       "    </tr>\n",
       "    <tr>\n",
       "      <th>3</th>\n",
       "      <td>1550</td>\n",
       "      <td>D2</td>\n",
       "      <td>2011</td>\n",
       "      <td>2011-07-16</td>\n",
       "      <td>Erzgebirge Aue</td>\n",
       "      <td>Aachen</td>\n",
       "      <td>1</td>\n",
       "      <td>0</td>\n",
       "      <td>H</td>\n",
       "    </tr>\n",
       "    <tr>\n",
       "      <th>4</th>\n",
       "      <td>1678</td>\n",
       "      <td>D2</td>\n",
       "      <td>2011</td>\n",
       "      <td>2011-07-16</td>\n",
       "      <td>St Pauli</td>\n",
       "      <td>Ingolstadt</td>\n",
       "      <td>2</td>\n",
       "      <td>0</td>\n",
       "      <td>H</td>\n",
       "    </tr>\n",
       "  </tbody>\n",
       "</table>\n",
       "</div>"
      ],
      "text/plain": [
       "   Match_ID Div  Season        Date        HomeTeam       AwayTeam  FTHG  \\\n",
       "0      1133  D2    2011  2011-07-15         Cottbus        Dresden     2   \n",
       "1      1167  D2    2011  2011-07-15  Greuther Furth  Ein Frankfurt     2   \n",
       "2      1551  D2    2011  2011-07-15   Frankfurt FSV   Union Berlin     1   \n",
       "3      1550  D2    2011  2011-07-16  Erzgebirge Aue         Aachen     1   \n",
       "4      1678  D2    2011  2011-07-16        St Pauli     Ingolstadt     2   \n",
       "\n",
       "   FTAG FTR  \n",
       "0     1   H  \n",
       "1     3   A  \n",
       "2     1   D  \n",
       "3     0   H  \n",
       "4     0   H  "
      ]
     },
     "execution_count": 5,
     "metadata": {},
     "output_type": "execute_result"
    }
   ],
   "source": [
    "cur.execute('''SELECT * \n",
    "               FROM matches \n",
    "               WHERE season = 2011\n",
    "               ORDER BY Date''')\n",
    "\n",
    "matches = pd.DataFrame(cur.fetchall())\n",
    "matches.columns = [i[0] for i in cur.description]\n",
    "matches.head()"
   ]
  },
  {
   "cell_type": "code",
   "execution_count": 6,
   "metadata": {},
   "outputs": [
    {
     "name": "stdout",
     "output_type": "stream",
     "text": [
      "# of Unique Game Dates in 2011 Season: 165\n"
     ]
    }
   ],
   "source": [
    "# Get number of unique dates for 2011 season,\n",
    "# so that we don't have to repeat API calls for the same dates\n",
    "\n",
    "unique_dates = matches.Date.unique()\n",
    "print(\"# of Unique Game Dates in 2011 Season: {}\".format(len(unique_dates)))"
   ]
  },
  {
   "cell_type": "markdown",
   "metadata": {},
   "source": [
    "### The cell below takes 2-3mins:"
   ]
  },
  {
   "cell_type": "code",
   "execution_count": 7,
   "metadata": {},
   "outputs": [
    {
     "data": {
      "application/vnd.jupyter.widget-view+json": {
       "model_id": "d18d67e3d6074a03bf6a371a3a6e3209",
       "version_major": 2,
       "version_minor": 0
      },
      "text/plain": [
       "HBox(children=(IntProgress(value=0, max=165), HTML(value='')))"
      ]
     },
     "metadata": {},
     "output_type": "display_data"
    },
    {
     "name": "stdout",
     "output_type": "stream",
     "text": [
      "\n"
     ]
    }
   ],
   "source": [
    "# Get rain status for each unique date in 2011 season\n",
    "\n",
    "rain_dates = wg.get_weather_for_all_dates(unique_dates)"
   ]
  },
  {
   "cell_type": "code",
   "execution_count": 8,
   "metadata": {},
   "outputs": [],
   "source": [
    "# Let's check out the first and last 5 rain_dates without viewing the entire dictionary\n",
    "\n",
    "first5pairs = {k: rain_dates[k] for k in sorted(rain_dates.keys())[:5]}\n",
    "last5pairs = {k: rain_dates[k] for k in sorted(rain_dates.keys())[-5:]}"
   ]
  },
  {
   "cell_type": "code",
   "execution_count": 9,
   "metadata": {},
   "outputs": [
    {
     "name": "stdout",
     "output_type": "stream",
     "text": [
      "{'2011-07-15': False, '2011-07-16': False, '2011-07-17': True, '2011-07-18': False, '2011-07-22': True}\n",
      "\n",
      "{'2012-05-05': False, '2012-05-06': False, '2012-05-07': False, '2012-05-08': False, '2012-05-13': False}\n"
     ]
    }
   ],
   "source": [
    "print(first5pairs)\n",
    "print()\n",
    "print(last5pairs)"
   ]
  },
  {
   "cell_type": "code",
   "execution_count": 10,
   "metadata": {},
   "outputs": [
    {
     "data": {
      "application/vnd.jupyter.widget-view+json": {
       "model_id": "f0ae4982b7194bfc95bc346394c4c539",
       "version_major": 2,
       "version_minor": 0
      },
      "text/plain": [
       "HBox(children=(IntProgress(value=0, max=992), HTML(value='')))"
      ]
     },
     "metadata": {},
     "output_type": "display_data"
    },
    {
     "name": "stdout",
     "output_type": "stream",
     "text": [
      "\n"
     ]
    },
    {
     "data": {
      "text/html": [
       "<div>\n",
       "<style scoped>\n",
       "    .dataframe tbody tr th:only-of-type {\n",
       "        vertical-align: middle;\n",
       "    }\n",
       "\n",
       "    .dataframe tbody tr th {\n",
       "        vertical-align: top;\n",
       "    }\n",
       "\n",
       "    .dataframe thead th {\n",
       "        text-align: right;\n",
       "    }\n",
       "</style>\n",
       "<table border=\"1\" class=\"dataframe\">\n",
       "  <thead>\n",
       "    <tr style=\"text-align: right;\">\n",
       "      <th></th>\n",
       "      <th>Match_ID</th>\n",
       "      <th>Div</th>\n",
       "      <th>Season</th>\n",
       "      <th>Date</th>\n",
       "      <th>HomeTeam</th>\n",
       "      <th>AwayTeam</th>\n",
       "      <th>FTHG</th>\n",
       "      <th>FTAG</th>\n",
       "      <th>FTR</th>\n",
       "      <th>Rain_Game</th>\n",
       "    </tr>\n",
       "  </thead>\n",
       "  <tbody>\n",
       "    <tr>\n",
       "      <th>0</th>\n",
       "      <td>1133</td>\n",
       "      <td>D2</td>\n",
       "      <td>2011</td>\n",
       "      <td>2011-07-15</td>\n",
       "      <td>Cottbus</td>\n",
       "      <td>Dresden</td>\n",
       "      <td>2</td>\n",
       "      <td>1</td>\n",
       "      <td>H</td>\n",
       "      <td>False</td>\n",
       "    </tr>\n",
       "    <tr>\n",
       "      <th>1</th>\n",
       "      <td>1167</td>\n",
       "      <td>D2</td>\n",
       "      <td>2011</td>\n",
       "      <td>2011-07-15</td>\n",
       "      <td>Greuther Furth</td>\n",
       "      <td>Ein Frankfurt</td>\n",
       "      <td>2</td>\n",
       "      <td>3</td>\n",
       "      <td>A</td>\n",
       "      <td>False</td>\n",
       "    </tr>\n",
       "    <tr>\n",
       "      <th>2</th>\n",
       "      <td>1551</td>\n",
       "      <td>D2</td>\n",
       "      <td>2011</td>\n",
       "      <td>2011-07-15</td>\n",
       "      <td>Frankfurt FSV</td>\n",
       "      <td>Union Berlin</td>\n",
       "      <td>1</td>\n",
       "      <td>1</td>\n",
       "      <td>D</td>\n",
       "      <td>False</td>\n",
       "    </tr>\n",
       "    <tr>\n",
       "      <th>3</th>\n",
       "      <td>1550</td>\n",
       "      <td>D2</td>\n",
       "      <td>2011</td>\n",
       "      <td>2011-07-16</td>\n",
       "      <td>Erzgebirge Aue</td>\n",
       "      <td>Aachen</td>\n",
       "      <td>1</td>\n",
       "      <td>0</td>\n",
       "      <td>H</td>\n",
       "      <td>False</td>\n",
       "    </tr>\n",
       "    <tr>\n",
       "      <th>4</th>\n",
       "      <td>1678</td>\n",
       "      <td>D2</td>\n",
       "      <td>2011</td>\n",
       "      <td>2011-07-16</td>\n",
       "      <td>St Pauli</td>\n",
       "      <td>Ingolstadt</td>\n",
       "      <td>2</td>\n",
       "      <td>0</td>\n",
       "      <td>H</td>\n",
       "      <td>False</td>\n",
       "    </tr>\n",
       "    <tr>\n",
       "      <th>5</th>\n",
       "      <td>1146</td>\n",
       "      <td>D2</td>\n",
       "      <td>2011</td>\n",
       "      <td>2011-07-17</td>\n",
       "      <td>Karlsruhe</td>\n",
       "      <td>Duisburg</td>\n",
       "      <td>3</td>\n",
       "      <td>2</td>\n",
       "      <td>H</td>\n",
       "      <td>True</td>\n",
       "    </tr>\n",
       "    <tr>\n",
       "      <th>6</th>\n",
       "      <td>1442</td>\n",
       "      <td>D2</td>\n",
       "      <td>2011</td>\n",
       "      <td>2011-07-17</td>\n",
       "      <td>Braunschweig</td>\n",
       "      <td>Munich 1860</td>\n",
       "      <td>3</td>\n",
       "      <td>1</td>\n",
       "      <td>H</td>\n",
       "      <td>True</td>\n",
       "    </tr>\n",
       "    <tr>\n",
       "      <th>7</th>\n",
       "      <td>1602</td>\n",
       "      <td>D2</td>\n",
       "      <td>2011</td>\n",
       "      <td>2011-07-17</td>\n",
       "      <td>Hansa Rostock</td>\n",
       "      <td>Paderborn</td>\n",
       "      <td>1</td>\n",
       "      <td>2</td>\n",
       "      <td>A</td>\n",
       "      <td>True</td>\n",
       "    </tr>\n",
       "    <tr>\n",
       "      <th>8</th>\n",
       "      <td>1360</td>\n",
       "      <td>D2</td>\n",
       "      <td>2011</td>\n",
       "      <td>2011-07-18</td>\n",
       "      <td>Fortuna Dusseldorf</td>\n",
       "      <td>Bochum</td>\n",
       "      <td>2</td>\n",
       "      <td>0</td>\n",
       "      <td>H</td>\n",
       "      <td>False</td>\n",
       "    </tr>\n",
       "    <tr>\n",
       "      <th>9</th>\n",
       "      <td>1505</td>\n",
       "      <td>D2</td>\n",
       "      <td>2011</td>\n",
       "      <td>2011-07-22</td>\n",
       "      <td>Duisburg</td>\n",
       "      <td>Cottbus</td>\n",
       "      <td>1</td>\n",
       "      <td>2</td>\n",
       "      <td>A</td>\n",
       "      <td>True</td>\n",
       "    </tr>\n",
       "  </tbody>\n",
       "</table>\n",
       "</div>"
      ],
      "text/plain": [
       "   Match_ID Div  Season        Date            HomeTeam       AwayTeam  FTHG  \\\n",
       "0      1133  D2    2011  2011-07-15             Cottbus        Dresden     2   \n",
       "1      1167  D2    2011  2011-07-15      Greuther Furth  Ein Frankfurt     2   \n",
       "2      1551  D2    2011  2011-07-15       Frankfurt FSV   Union Berlin     1   \n",
       "3      1550  D2    2011  2011-07-16      Erzgebirge Aue         Aachen     1   \n",
       "4      1678  D2    2011  2011-07-16            St Pauli     Ingolstadt     2   \n",
       "5      1146  D2    2011  2011-07-17           Karlsruhe       Duisburg     3   \n",
       "6      1442  D2    2011  2011-07-17        Braunschweig    Munich 1860     3   \n",
       "7      1602  D2    2011  2011-07-17       Hansa Rostock      Paderborn     1   \n",
       "8      1360  D2    2011  2011-07-18  Fortuna Dusseldorf         Bochum     2   \n",
       "9      1505  D2    2011  2011-07-22            Duisburg        Cottbus     1   \n",
       "\n",
       "   FTAG FTR  Rain_Game  \n",
       "0     1   H      False  \n",
       "1     3   A      False  \n",
       "2     1   D      False  \n",
       "3     0   H      False  \n",
       "4     0   H      False  \n",
       "5     2   H       True  \n",
       "6     1   H       True  \n",
       "7     2   A       True  \n",
       "8     0   H      False  \n",
       "9     2   A       True  "
      ]
     },
     "execution_count": 10,
     "metadata": {},
     "output_type": "execute_result"
    }
   ],
   "source": [
    "# Create boolean column called 'Rain_Game' for the matches \n",
    "# dataframe using the dictionary of values. \n",
    "\n",
    "rain_game = []\n",
    "\n",
    "for date in tqdm(matches.Date):\n",
    "    rain_game.append(rain_dates[date])\n",
    "\n",
    "matches['Rain_Game'] = rain_game\n",
    "matches.head(10)"
   ]
  },
  {
   "cell_type": "code",
   "execution_count": 11,
   "metadata": {},
   "outputs": [
    {
     "name": "stdout",
     "output_type": "stream",
     "text": [
      "# of Unique Teams: 56\n"
     ]
    },
    {
     "data": {
      "application/vnd.jupyter.widget-view+json": {
       "model_id": "d147fdfee96941609b22bce3099e4c8e",
       "version_major": 2,
       "version_minor": 0
      },
      "text/plain": [
       "HBox(children=(IntProgress(value=0, max=56), HTML(value='')))"
      ]
     },
     "metadata": {},
     "output_type": "display_data"
    },
    {
     "name": "stdout",
     "output_type": "stream",
     "text": [
      "\n",
      "56\n"
     ]
    }
   ],
   "source": [
    "## Get all unique teams, and then create a basic data dictionary for each.\n",
    "## These values will be updated as we go through each match in the matches table. \n",
    "\n",
    "all_teams = matches['HomeTeam'].unique()\n",
    "\n",
    "print(\"# of Unique Teams: {}\".format(len(all_teams)))\n",
    "\n",
    "teams_data = {}\n",
    "\n",
    "# adding tqdm() to see a progress bar for how long this loop will take\n",
    "for team in tqdm(all_teams):\n",
    "    \n",
    "    data = {'total_matches_2011': 0, \n",
    "           'total_wins_2011': 0,\n",
    "           'total_losses_2011': 0,\n",
    "           'rain_wins_2011': 0,\n",
    "           'rain_losses_2011': 0,\n",
    "           'total_goals_2011': 0}\n",
    "    \n",
    "    teams_data[team] = data\n",
    "    \n",
    "print(len(teams_data))"
   ]
  },
  {
   "cell_type": "code",
   "execution_count": 12,
   "metadata": {},
   "outputs": [
    {
     "data": {
      "text/plain": [
       "{'total_matches_2011': 0,\n",
       " 'total_wins_2011': 0,\n",
       " 'total_losses_2011': 0,\n",
       " 'rain_wins_2011': 0,\n",
       " 'rain_losses_2011': 0,\n",
       " 'total_goals_2011': 0}"
      ]
     },
     "execution_count": 12,
     "metadata": {},
     "output_type": "execute_result"
    }
   ],
   "source": [
    "# Checking out one of the team_data dictionary instance records\n",
    "# Currently, all values in a sigle dictionary integer zeros\n",
    "\n",
    "teams_data['Chelsea']"
   ]
  },
  {
   "cell_type": "code",
   "execution_count": 13,
   "metadata": {},
   "outputs": [
    {
     "data": {
      "text/html": [
       "<div>\n",
       "<style scoped>\n",
       "    .dataframe tbody tr th:only-of-type {\n",
       "        vertical-align: middle;\n",
       "    }\n",
       "\n",
       "    .dataframe tbody tr th {\n",
       "        vertical-align: top;\n",
       "    }\n",
       "\n",
       "    .dataframe thead th {\n",
       "        text-align: right;\n",
       "    }\n",
       "</style>\n",
       "<table border=\"1\" class=\"dataframe\">\n",
       "  <thead>\n",
       "    <tr style=\"text-align: right;\">\n",
       "      <th></th>\n",
       "      <th>Match_ID</th>\n",
       "      <th>Div</th>\n",
       "      <th>Season</th>\n",
       "      <th>Date</th>\n",
       "      <th>HomeTeam</th>\n",
       "      <th>AwayTeam</th>\n",
       "      <th>FTHG</th>\n",
       "      <th>FTAG</th>\n",
       "      <th>FTR</th>\n",
       "      <th>Rain_Game</th>\n",
       "    </tr>\n",
       "  </thead>\n",
       "  <tbody>\n",
       "    <tr>\n",
       "      <th>0</th>\n",
       "      <td>1133</td>\n",
       "      <td>D2</td>\n",
       "      <td>2011</td>\n",
       "      <td>2011-07-15</td>\n",
       "      <td>Cottbus</td>\n",
       "      <td>Dresden</td>\n",
       "      <td>2</td>\n",
       "      <td>1</td>\n",
       "      <td>H</td>\n",
       "      <td>False</td>\n",
       "    </tr>\n",
       "    <tr>\n",
       "      <th>1</th>\n",
       "      <td>1167</td>\n",
       "      <td>D2</td>\n",
       "      <td>2011</td>\n",
       "      <td>2011-07-15</td>\n",
       "      <td>Greuther Furth</td>\n",
       "      <td>Ein Frankfurt</td>\n",
       "      <td>2</td>\n",
       "      <td>3</td>\n",
       "      <td>A</td>\n",
       "      <td>False</td>\n",
       "    </tr>\n",
       "    <tr>\n",
       "      <th>2</th>\n",
       "      <td>1551</td>\n",
       "      <td>D2</td>\n",
       "      <td>2011</td>\n",
       "      <td>2011-07-15</td>\n",
       "      <td>Frankfurt FSV</td>\n",
       "      <td>Union Berlin</td>\n",
       "      <td>1</td>\n",
       "      <td>1</td>\n",
       "      <td>D</td>\n",
       "      <td>False</td>\n",
       "    </tr>\n",
       "    <tr>\n",
       "      <th>3</th>\n",
       "      <td>1550</td>\n",
       "      <td>D2</td>\n",
       "      <td>2011</td>\n",
       "      <td>2011-07-16</td>\n",
       "      <td>Erzgebirge Aue</td>\n",
       "      <td>Aachen</td>\n",
       "      <td>1</td>\n",
       "      <td>0</td>\n",
       "      <td>H</td>\n",
       "      <td>False</td>\n",
       "    </tr>\n",
       "    <tr>\n",
       "      <th>4</th>\n",
       "      <td>1678</td>\n",
       "      <td>D2</td>\n",
       "      <td>2011</td>\n",
       "      <td>2011-07-16</td>\n",
       "      <td>St Pauli</td>\n",
       "      <td>Ingolstadt</td>\n",
       "      <td>2</td>\n",
       "      <td>0</td>\n",
       "      <td>H</td>\n",
       "      <td>False</td>\n",
       "    </tr>\n",
       "  </tbody>\n",
       "</table>\n",
       "</div>"
      ],
      "text/plain": [
       "   Match_ID Div  Season        Date        HomeTeam       AwayTeam  FTHG  \\\n",
       "0      1133  D2    2011  2011-07-15         Cottbus        Dresden     2   \n",
       "1      1167  D2    2011  2011-07-15  Greuther Furth  Ein Frankfurt     2   \n",
       "2      1551  D2    2011  2011-07-15   Frankfurt FSV   Union Berlin     1   \n",
       "3      1550  D2    2011  2011-07-16  Erzgebirge Aue         Aachen     1   \n",
       "4      1678  D2    2011  2011-07-16        St Pauli     Ingolstadt     2   \n",
       "\n",
       "   FTAG FTR  Rain_Game  \n",
       "0     1   H      False  \n",
       "1     3   A      False  \n",
       "2     1   D      False  \n",
       "3     0   H      False  \n",
       "4     0   H      False  "
      ]
     },
     "execution_count": 13,
     "metadata": {},
     "output_type": "execute_result"
    }
   ],
   "source": [
    "# Double check the dataframe for reference \n",
    "\n",
    "matches[:5]"
   ]
  },
  {
   "cell_type": "markdown",
   "metadata": {},
   "source": [
    "---"
   ]
  },
  {
   "cell_type": "markdown",
   "metadata": {},
   "source": [
    "### The following is just one potential strategy for updating your `teams_data` "
   ]
  },
  {
   "cell_type": "markdown",
   "metadata": {},
   "source": [
    "#### Regardless of which of the following two functions you write first, we need to keep track of what we want to to each data point"
   ]
  },
  {
   "cell_type": "code",
   "execution_count": 14,
   "metadata": {},
   "outputs": [
    {
     "data": {
      "text/plain": [
       "{'total_matches_2011': 0,\n",
       " 'total_wins_2011': 0,\n",
       " 'total_losses_2011': 0,\n",
       " 'rain_wins_2011': 0,\n",
       " 'rain_losses_2011': 0,\n",
       " 'total_goals_2011': 0}"
      ]
     },
     "execution_count": 14,
     "metadata": {},
     "output_type": "execute_result"
    }
   ],
   "source": [
    "teams_data['Chelsea']"
   ]
  },
  {
   "cell_type": "code",
   "execution_count": 15,
   "metadata": {},
   "outputs": [
    {
     "data": {
      "text/plain": [
       "'2011'"
      ]
     },
     "execution_count": 15,
     "metadata": {},
     "output_type": "execute_result"
    }
   ],
   "source": [
    "matches.loc[0,'Date'][:4]"
   ]
  },
  {
   "cell_type": "markdown",
   "metadata": {},
   "source": [
    "### Personally, I would have used different aliases for these functions, because, to me, they are somewhat misleading.\n",
    "\n",
    "### I would have chosen something more explicit, like `update_team_data_dict()` `update_team_data_dic_win_loss_record()` only because we aren't updating the `matches` df. We are using these functions for updating our `teams_data` dict, not updating the `matches` df. While that second function name is a bit long, it is a little less confusing/more explicit when working with dataframes and dictionaries as well as frequently using words like \"data\", \"team data\", etc...\n",
    "\n",
    "#### For the purposes consistency with the lab solution, I will leave the function names as they were"
   ]
  },
  {
   "cell_type": "code",
   "execution_count": 16,
   "metadata": {},
   "outputs": [],
   "source": [
    "def update_team_data(row):\n",
    "    \n",
    "    # Get goal and win data from row in your dataframe.\n",
    "    # Store these variables for later use in our update_team_win_loss_record()\n",
    "    # function we define below''' \n",
    "    home_team = row['HomeTeam']\n",
    "    away_team = row['AwayTeam']\n",
    "    home_goals = row['FTHG']\n",
    "    away_goals = row['FTAG']\n",
    "    \n",
    "    # No need to define this with two variables,\n",
    "    # The solution version is commented out here:\n",
    "    # datetime = row['Date']\n",
    "    # year = datetime[:4]\n",
    "    # I would just use one \"date/year\" variable, like so:\n",
    "    \n",
    "    year = row['Date'][:4] #This is the year\n",
    "    home_did_win = False\n",
    "    away_did_win = False\n",
    "    is_rain_game = row['Rain_Game']\n",
    "    \n",
    "    # Determine Winner and Loser of Match\n",
    "    # These values will not be inserted into the dataframe, but rather\n",
    "    # the corresponding teams_data dictionary values\n",
    "    \n",
    "    if row['FTR'] == 'H':            # CASE: Home Win, Away Loss\n",
    "        home_did_win = True\n",
    "        away_did_win = False\n",
    "    elif row['FTR'] == 'A':          # CASE: Home Loss, Away Win\n",
    "        home_did_win = False\n",
    "        away_did_win = True\n",
    "    else:                            # CASE: Draw\n",
    "        home_did_win = False\n",
    "        away_did_win = False\n",
    "    \n",
    "    # Update records for HOME team -> USING FUCTION DEFINED BELOW\n",
    "    update_team_win_loss_record(home_team, home_goals, home_did_win, year, is_rain_game)\n",
    "    \n",
    "    # Update records for AWAY team -> USING FUCTION DEFINED BELOW\n",
    "    update_team_win_loss_record(away_team, away_goals, away_did_win, year, is_rain_game)"
   ]
  },
  {
   "cell_type": "code",
   "execution_count": 17,
   "metadata": {},
   "outputs": [],
   "source": [
    "def update_team_win_loss_record(team_name, goals, did_win, year, is_rain_game):\n",
    "    \n",
    "    # Get the team_name (from the teams_data dictionary) that we want to operate on\n",
    "    team = teams_data[team_name]\n",
    "    \n",
    "    # Perform the desired operations:\n",
    "    team['total_matches_2011'] += 1\n",
    "    if did_win == True:\n",
    "        team['total_wins_2011'] += 1\n",
    "        if is_rain_game == True:\n",
    "            team['rain_wins_2011'] += 1\n",
    "        else:\n",
    "            team['rain_losses_2011'] += 1\n",
    "    else:\n",
    "        team['total_losses_2011'] += 1\n",
    "        \n",
    "    team['total_goals_2011'] += goals"
   ]
  },
  {
   "cell_type": "markdown",
   "metadata": {},
   "source": [
    "---"
   ]
  },
  {
   "cell_type": "markdown",
   "metadata": {},
   "source": [
    "# Again, eeither of the previous cells will affect the `matches` dataframe!"
   ]
  },
  {
   "cell_type": "markdown",
   "metadata": {},
   "source": [
    "---"
   ]
  },
  {
   "cell_type": "markdown",
   "metadata": {},
   "source": [
    "### In the following cell,\n",
    "\n",
    "#### We are using the `.progress_apply()` method, which allows us to see a progress bar from `tqdm`.\n",
    "#### If you do not wish to see the progress bar, feel free to use the regular Pandas `.apply()` method.\n",
    "\n",
    "**By calling either `.apply()` or `.progress_apply()` on our `matches` df, we are using each individual row from the dataframe to update the information in our `teams_data` dictionary.**"
   ]
  },
  {
   "cell_type": "code",
   "execution_count": 18,
   "metadata": {},
   "outputs": [
    {
     "data": {
      "application/vnd.jupyter.widget-view+json": {
       "model_id": "46c4614ff7cf492bae1a8aadbb0d46a8",
       "version_major": 2,
       "version_minor": 0
      },
      "text/plain": [
       "HBox(children=(IntProgress(value=0, max=992), HTML(value='')))"
      ]
     },
     "metadata": {},
     "output_type": "display_data"
    },
    {
     "name": "stdout",
     "output_type": "stream",
     "text": [
      "\n"
     ]
    },
    {
     "data": {
      "text/plain": [
       "{'total_matches_2011': 38,\n",
       " 'total_wins_2011': 18,\n",
       " 'total_losses_2011': 20,\n",
       " 'rain_wins_2011': 4,\n",
       " 'rain_losses_2011': 14,\n",
       " 'total_goals_2011': 65}"
      ]
     },
     "execution_count": 18,
     "metadata": {},
     "output_type": "execute_result"
    }
   ],
   "source": [
    "matches.progress_apply(update_team_data, axis=1)\n",
    "\n",
    "# Now, let's check one out a team from our `teams_data` dictionary \n",
    "teams_data['Chelsea']"
   ]
  },
  {
   "cell_type": "markdown",
   "metadata": {},
   "source": [
    "### Looks good to go!"
   ]
  },
  {
   "cell_type": "markdown",
   "metadata": {},
   "source": [
    "### Now, on to populating the database"
   ]
  },
  {
   "cell_type": "code",
   "execution_count": 19,
   "metadata": {},
   "outputs": [],
   "source": [
    "class MongodbHandler(object):\n",
    "    \n",
    "    # Standard __init__ method here:\n",
    "    def __init__(self):\n",
    "        \"\"\"NOTE: MongoDB server must already be running before an object \n",
    "        from this class is initialized--otherwise, \n",
    "        connecting to the client will fail!\"\"\"\n",
    "        \n",
    "        self.myclient = pymongo.MongoClient('mongodb://localhost:27017')\n",
    "        self.db = self.myclient['section_16_lab_db']\n",
    "        self.coll = self.db['section_16_lab_collection']\n",
    "    \n",
    "    # Method for formatting our information for database populating\n",
    "    def format_data(self, team_name, goals_2011, wins_2011, viz, rain_win_pct):\n",
    "        data = {\"team_name\": team_name,\n",
    "               \"goals_2011\": goals_2011,\n",
    "               \"wins_2011\": wins_2011,\n",
    "               \"win_loss_histogram\": viz,\n",
    "               \"rain_win_pct\": rain_win_pct}   \n",
    "        return data\n",
    "\n",
    "# MAKE SURE YOU UPDATE THE VARIABLES SO THEY MATCH ACCORDINGLY!!!\n",
    "# The variable \"record\" needs to be in the return statement, \n",
    "# NOT the variable \"data\" (which the original solution contained)\n",
    "\n",
    "    def insert_record(self, record):       \n",
    "        return self.coll.insert_one(record)"
   ]
  },
  {
   "cell_type": "code",
   "execution_count": 20,
   "metadata": {},
   "outputs": [],
   "source": [
    "# Write function to create data visualization for storage\n",
    "\n",
    "def get_hist(team, show_viz=False):\n",
    "    expanded_wl_data = []\n",
    "    print('total wins: ', team['total_wins_2011'])\n",
    "    print('total losses: ', team['total_losses_2011'])\n",
    "    for i in range(team['total_wins_2011']):\n",
    "        expanded_wl_data.append('Win')\n",
    "    for i in range(team['total_losses_2011']):\n",
    "        expanded_wl_data.append('Loss')\n",
    "    hist = plt.hist(expanded_wl_data);\n",
    "    \n",
    "    if show_viz:\n",
    "        plt.show();\n",
    "    \n",
    "    return hist"
   ]
  },
  {
   "cell_type": "code",
   "execution_count": 21,
   "metadata": {},
   "outputs": [
    {
     "name": "stdout",
     "output_type": "stream",
     "text": [
      "total wins:  12\n",
      "total losses:  22\n"
     ]
    },
    {
     "data": {
      "text/plain": [
       "(array([12.,  0.,  0.,  0.,  0.,  0.,  0.,  0.,  0., 22.]),\n",
       " array([0. , 0.1, 0.2, 0.3, 0.4, 0.5, 0.6, 0.7, 0.8, 0.9, 1. ]),\n",
       " <a list of 10 Patch objects>)"
      ]
     },
     "execution_count": 21,
     "metadata": {},
     "output_type": "execute_result"
    },
    {
     "data": {
      "image/png": "[encoded data removed]",
      "text/plain": [
       "<Figure size 432x288 with 1 Axes>"
      ]
     },
     "metadata": {
      "needs_background": "light"
     },
     "output_type": "display_data"
    }
   ],
   "source": [
    "# Check the get_hist() function:\n",
    "\n",
    "get_hist(teams_data['Nurnberg'])"
   ]
  },
  {
   "cell_type": "code",
   "execution_count": 22,
   "metadata": {},
   "outputs": [],
   "source": [
    "# Instanitate an instance of our new MongodbHandler() class\n",
    "\n",
    "db = MongodbHandler()"
   ]
  },
  {
   "cell_type": "code",
   "execution_count": 23,
   "metadata": {},
   "outputs": [
    {
     "data": {
      "application/vnd.jupyter.widget-view+json": {
       "model_id": "9992ed7e17fe4fc691b41980b95d1e37",
       "version_major": 2,
       "version_minor": 0
      },
      "text/plain": [
       "HBox(children=(IntProgress(value=0, max=56), HTML(value='')))"
      ]
     },
     "metadata": {},
     "output_type": "display_data"
    },
    {
     "name": "stdout",
     "output_type": "stream",
     "text": [
      "total wins:  8\n",
      "total losses:  26\n",
      "total wins:  20\n",
      "total losses:  14\n",
      "total wins:  7\n",
      "total losses:  27\n",
      "total wins:  8\n",
      "total losses:  26\n",
      "total wins:  18\n",
      "total losses:  16\n",
      "total wins:  9\n",
      "total losses:  25\n",
      "total wins:  10\n",
      "total losses:  24\n",
      "total wins:  5\n",
      "total losses:  29\n",
      "total wins:  16\n",
      "total losses:  18\n",
      "total wins:  10\n",
      "total losses:  24\n",
      "total wins:  8\n",
      "total losses:  26\n",
      "total wins:  10\n",
      "total losses:  24\n",
      "total wins:  17\n",
      "total losses:  17\n",
      "total wins:  14\n",
      "total losses:  20\n",
      "total wins:  12\n",
      "total losses:  22\n",
      "total wins:  6\n",
      "total losses:  28\n",
      "total wins:  17\n",
      "total losses:  17\n",
      "total wins:  20\n",
      "total losses:  14\n",
      "total wins:  25\n",
      "total losses:  9\n",
      "total wins:  8\n",
      "total losses:  26\n",
      "total wins:  11\n",
      "total losses:  23\n",
      "total wins:  7\n",
      "total losses:  27\n",
      "total wins:  15\n",
      "total losses:  19\n",
      "total wins:  8\n",
      "total losses:  26\n",
      "total wins:  12\n",
      "total losses:  22\n",
      "total wins:  9\n",
      "total losses:  25\n",
      "total wins:  23\n",
      "total losses:  11\n",
      "total wins:  13\n",
      "total losses:  21\n",
      "total wins:  10\n",
      "total losses:  24\n",
      "total wins:  20\n",
      "total losses:  14\n",
      "total wins:  17\n",
      "total losses:  17\n",
      "total wins:  12\n",
      "total losses:  22\n",
      "total wins:  8\n",
      "total losses:  26\n",
      "total wins:  10\n",
      "total losses:  24\n",
      "total wins:  8\n",
      "total losses:  30\n",
      "total wins:  14\n",
      "total losses:  24\n",
      "total wins:  14\n",
      "total losses:  24\n",
      "total wins:  19\n",
      "total losses:  19\n",
      "total wins:  10\n",
      "total losses:  28\n",
      "total wins:  11\n",
      "total losses:  27\n",
      "total wins:  15\n",
      "total losses:  19\n",
      "total wins:  4\n",
      "total losses:  30\n",
      "total wins:  11\n",
      "total losses:  27\n",
      "total wins:  13\n",
      "total losses:  25\n",
      "total wins:  28\n",
      "total losses:  10\n",
      "total wins:  21\n",
      "total losses:  17\n",
      "total wins:  7\n",
      "total losses:  31\n",
      "total wins:  18\n",
      "total losses:  20\n",
      "total wins:  15\n",
      "total losses:  23\n",
      "total wins:  11\n",
      "total losses:  27\n",
      "total wins:  12\n",
      "total losses:  26\n",
      "total wins:  10\n",
      "total losses:  28\n",
      "total wins:  12\n",
      "total losses:  26\n",
      "total wins:  5\n",
      "total losses:  33\n",
      "total wins:  28\n",
      "total losses:  10\n",
      "total wins:  20\n",
      "total losses:  18\n",
      "\n"
     ]
    },
    {
     "data": {
      "image/png": "[encoded data removed]",
      "text/plain": [
       "<Figure size 432x288 with 1 Axes>"
      ]
     },
     "metadata": {
      "needs_background": "light"
     },
     "output_type": "display_data"
    }
   ],
   "source": [
    "# Final Step: add everything to mongoDB!\n",
    "\n",
    "# You could also write this into a callable function if you prefer\n",
    "\n",
    "for team_name, data in tqdm(teams_data.items()):\n",
    "    if data['rain_wins_2011'] == 0 and data['rain_losses_2011'] == 0:\n",
    "        rain_win_pct = \"N/A\"\n",
    "    else:\n",
    "        total_rain_games = data['rain_wins_2011'] + data['rain_losses_2011']\n",
    "        rain_win_pct = str(data['rain_wins_2011'] / total_rain_games)\n",
    "    \n",
    "    viz = get_hist(data)\n",
    "    \n",
    "    record = db.format_data(team_name, data['total_goals_2011'], data['total_wins_2011'], viz[0].tolist(), rain_win_pct)\n",
    "#     print(record)\n",
    "    db.insert_record(record)\n",
    "    \n",
    "    # delete viz object, so that a new one is created each time. \n",
    "    # Otherwise, it will just keep updating the first one instead\n",
    "    # of creating new correct visualizations\n",
    "    del(viz)\n",
    "    "
   ]
  },
  {
   "cell_type": "code",
   "execution_count": 24,
   "metadata": {},
   "outputs": [],
   "source": [
    "## Uncomment below if you wish to visualize the newly populated database:\n",
    "\n",
    "# query_1 = db.coll.find({})\n",
    "# for x in query_1:\n",
    "#     print(x)"
   ]
  },
  {
   "cell_type": "code",
   "execution_count": 25,
   "metadata": {},
   "outputs": [],
   "source": [
    "## Uncomment and run if you wish to re-populate your collection\n",
    "\n",
    "# db.coll.drop()"
   ]
  },
  {
   "cell_type": "markdown",
   "metadata": {},
   "source": [
    "# BACK TO VISUALIZATION FROM \"ARRAY\""
   ]
  },
  {
   "cell_type": "markdown",
   "metadata": {},
   "source": [
    "### So... we stored our histogram as an array... and now we want to get it back into a histogram:\n",
    "\n",
    "#### Let's test things out for just one team instance:"
   ]
  },
  {
   "cell_type": "markdown",
   "metadata": {},
   "source": [
    "I like Chelsea, so here we go:"
   ]
  },
  {
   "cell_type": "code",
   "execution_count": 26,
   "metadata": {},
   "outputs": [
    {
     "data": {
      "text/plain": [
       "{'total_matches_2011': 38,\n",
       " 'total_wins_2011': 18,\n",
       " 'total_losses_2011': 20,\n",
       " 'rain_wins_2011': 4,\n",
       " 'rain_losses_2011': 14,\n",
       " 'total_goals_2011': 65}"
      ]
     },
     "execution_count": 26,
     "metadata": {},
     "output_type": "execute_result"
    }
   ],
   "source": [
    "# One team's values:\n",
    "\n",
    "teams_data['Chelsea']"
   ]
  },
  {
   "cell_type": "markdown",
   "metadata": {},
   "source": [
    "#### Now, we want to see exactly what's happening inside the `get_hist()` function:"
   ]
  },
  {
   "cell_type": "code",
   "execution_count": 27,
   "metadata": {},
   "outputs": [
    {
     "name": "stdout",
     "output_type": "stream",
     "text": [
      "total wins:  18\n",
      "total losses:  20\n"
     ]
    },
    {
     "data": {
      "text/plain": [
       "(array([18.,  0.,  0.,  0.,  0.,  0.,  0.,  0.,  0., 20.]),\n",
       " array([0. , 0.1, 0.2, 0.3, 0.4, 0.5, 0.6, 0.7, 0.8, 0.9, 1. ]),\n",
       " <a list of 10 Patch objects>)"
      ]
     },
     "execution_count": 27,
     "metadata": {},
     "output_type": "execute_result"
    },
    {
     "data": {
      "image/png": "[encoded data removed]",
      "text/plain": [
       "<Figure size 432x288 with 1 Axes>"
      ]
     },
     "metadata": {
      "needs_background": "light"
     },
     "output_type": "display_data"
    }
   ],
   "source": [
    "# Here, I took the contents of the function and instantiated the requirements individually:\n",
    "\n",
    "# I want to see what the contents of this list are once it's populated\n",
    "\n",
    "expanded_wl_data = []\n",
    "\n",
    "print('total wins: ', teams_data['Chelsea']['total_wins_2011'])\n",
    "print('total losses: ', teams_data['Chelsea']['total_losses_2011'])\n",
    "\n",
    "# Append all the wins and losses accordingly\n",
    "for i in range(teams_data['Chelsea']['total_wins_2011']):\n",
    "    expanded_wl_data.append('Win')\n",
    "for i in range(teams_data['Chelsea']['total_losses_2011']):\n",
    "    expanded_wl_data.append('Loss')\n",
    "    \n",
    "# define the histogram    \n",
    "hist = plt.hist(expanded_wl_data)\n",
    "\n",
    "\n",
    "# Call the hist variable. \n",
    "# If you do this in a separate cell, you will not see the histogram (which confirm your wins and losses)\n",
    "\n",
    "hist"
   ]
  },
  {
   "cell_type": "code",
   "execution_count": 28,
   "metadata": {},
   "outputs": [
    {
     "data": {
      "text/plain": [
       "(array([18.,  0.,  0.,  0.,  0.,  0.,  0.,  0.,  0., 20.]),\n",
       " array([0. , 0.1, 0.2, 0.3, 0.4, 0.5, 0.6, 0.7, 0.8, 0.9, 1. ]),\n",
       " <a list of 10 Patch objects>)"
      ]
     },
     "execution_count": 28,
     "metadata": {},
     "output_type": "execute_result"
    }
   ],
   "source": [
    "# This is what I mean... no graph for some reason... \n",
    "# still uncertain why, but it doesn't really matter since the cell above does the\n",
    "# job we require\n",
    "\n",
    "hist"
   ]
  },
  {
   "cell_type": "code",
   "execution_count": 29,
   "metadata": {
    "scrolled": true
   },
   "outputs": [
    {
     "name": "stdout",
     "output_type": "stream",
     "text": [
      "['Win', 'Win', 'Win', 'Win', 'Win', 'Win', 'Win', 'Win', 'Win', 'Win', 'Win', 'Win', 'Win', 'Win', 'Win', 'Win', 'Win', 'Win', 'Loss', 'Loss', 'Loss', 'Loss', 'Loss', 'Loss', 'Loss', 'Loss', 'Loss', 'Loss', 'Loss', 'Loss', 'Loss', 'Loss', 'Loss', 'Loss', 'Loss', 'Loss', 'Loss', 'Loss']\n"
     ]
    }
   ],
   "source": [
    "# Let's have a look at that list!\n",
    "\n",
    "print(expanded_wl_data)"
   ]
  },
  {
   "cell_type": "markdown",
   "metadata": {},
   "source": [
    "#### Time to define our new `back_to_viz()` function:"
   ]
  },
  {
   "cell_type": "code",
   "execution_count": 30,
   "metadata": {},
   "outputs": [],
   "source": [
    "def back_to_viz(arr, query_here):\n",
    "    viz_hist_count = []\n",
    "    for x in range((int(arr[0]))):\n",
    "        viz_hist_count.append('Loss')\n",
    "    for x in range((int(arr[-1]))):\n",
    "        viz_hist_count.append('Win')\n",
    "    plt.hist(viz_hist_count) # You cannot call query_here['win_loss_histogram']\n",
    "    plt.title(query_here['team_name']) # You can change the query accordingly\n",
    "    return "
   ]
  },
  {
   "cell_type": "markdown",
   "metadata": {},
   "source": [
    "#### Get the Chelsea array from the mongodb:\n",
    "\n",
    "(GO CHELSEA!)"
   ]
  },
  {
   "cell_type": "code",
   "execution_count": 31,
   "metadata": {},
   "outputs": [],
   "source": [
    "query_CFC = db.coll.find_one({'team_name':'Chelsea'})"
   ]
  },
  {
   "cell_type": "code",
   "execution_count": 32,
   "metadata": {},
   "outputs": [
    {
     "data": {
      "text/plain": [
       "{'_id': ObjectId('5ce7f03f7ae53e512d7d3e9f'),\n",
       " 'team_name': 'Chelsea',\n",
       " 'goals_2011': 65,\n",
       " 'wins_2011': 18,\n",
       " 'win_loss_histogram': [18.0, 0.0, 0.0, 0.0, 0.0, 0.0, 0.0, 0.0, 0.0, 20.0],\n",
       " 'rain_win_pct': '0.16666666666666666'}"
      ]
     },
     "execution_count": 32,
     "metadata": {},
     "output_type": "execute_result"
    }
   ],
   "source": [
    "query_CFC"
   ]
  },
  {
   "cell_type": "code",
   "execution_count": 33,
   "metadata": {},
   "outputs": [],
   "source": [
    "# Copy the array from above and define our new array variable:\n",
    "array = query_CFC['win_loss_histogram']\n",
    "\n",
    "# or you can copy and paste... if you're lazy lol\n",
    "# array = [18.0, 0.0, 0.0, 0.0, 0.0, 0.0, 0.0, 0.0, 0.0, 20.0]"
   ]
  },
  {
   "cell_type": "code",
   "execution_count": 34,
   "metadata": {
    "scrolled": true
   },
   "outputs": [
    {
     "data": {
      "image/png": "[encoded data removed]",
      "text/plain": [
       "<Figure size 432x288 with 1 Axes>"
      ]
     },
     "metadata": {
      "needs_background": "light"
     },
     "output_type": "display_data"
    }
   ],
   "source": [
    "back_to_viz(array, query_CFC)"
   ]
  },
  {
   "cell_type": "markdown",
   "metadata": {},
   "source": [
    "![Image of Yaktocat](https://worldsportlogos.com/wp-content/uploads/2018/01/Chelsea-logo.png)"
   ]
  },
  {
   "cell_type": "markdown",
   "metadata": {},
   "source": [
    "# Summary\n",
    "\n",
    "In this lab, we dug deep and used everything we've learned so far about python programming, databases, HTTP requests and API calls to ETL data from a SQL database into a MongoDB instance!"
   ]
  }
 ],
 "metadata": {
  "kernelspec": {
   "display_name": "Python 3",
   "language": "python",
   "name": "python3"
  },
  "language_info": {
   "codemirror_mode": {
    "name": "ipython",
    "version": 3
   },
   "file_extension": ".py",
   "mimetype": "text/x-python",
   "name": "python",
   "nbconvert_exporter": "python",
   "pygments_lexer": "ipython3",
   "version": "3.7.1"
  }
 },
 "nbformat": 4,
 "nbformat_minor": 2
}
